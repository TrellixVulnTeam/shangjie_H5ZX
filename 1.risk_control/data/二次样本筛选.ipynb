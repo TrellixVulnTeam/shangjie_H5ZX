{
 "cells": [
  {
   "cell_type": "markdown",
   "source": [
    "# 根据专家词库进行二次样本筛选"
   ],
   "metadata": {}
  },
  {
   "cell_type": "code",
   "execution_count": 1,
   "source": [
    "import pandas as pd\r\n",
    "import re\r\n",
    "import numpy as np\r\n",
    "label2id = {\r\n",
    "    '非常不满-服务敏感':0,\r\n",
    "    '非常不满-费用敏感':1,\r\n",
    "    '非常不满-渠道敏感':2,\r\n",
    "    '一般不满':3,\r\n",
    "    '比较不满':4\r\n",
    "}\r\n",
    "# 渠道敏感>费用敏感>服务敏感"
   ],
   "outputs": [],
   "metadata": {}
  },
  {
   "cell_type": "markdown",
   "source": [
    "    非常不满-服务敏感':0\n",
    "    非常不满-费用敏感':1\n",
    "    非常不满-渠道敏感':2"
   ],
   "metadata": {}
  },
  {
   "cell_type": "code",
   "execution_count": 31,
   "source": [
    "df_data = pd.read_csv('./data.csv')[['情绪等级标注结果','受理内容']]\r\n",
    "df_data.columns = [\"label\",\"content\"]\r\n",
    "data = df_data.copy()\r\n",
    "data.columns=[\"label\",\"content\"]\r\n",
    "data0 = np.asarray(pd.read_csv('./服务敏感.csv')).squeeze()\r\n",
    "data1 = np.asarray(pd.read_csv('./费用敏感.csv')).squeeze()\r\n",
    "data2 = np.asarray(pd.read_csv('./渠道敏感.csv')).squeeze()"
   ],
   "outputs": [],
   "metadata": {}
  },
  {
   "cell_type": "code",
   "execution_count": 32,
   "source": [
    "data = data.dropna()\r\n",
    "data.label.value_counts()"
   ],
   "outputs": [
    {
     "output_type": "execute_result",
     "data": {
      "text/plain": [
       "比较不满         15932\n",
       "非常不满-渠道敏感     6222\n",
       "一般不满          4111\n",
       "非常不满-服务敏感     2385\n",
       "非常不满-费用敏感     1397\n",
       "Name: label, dtype: int64"
      ]
     },
     "metadata": {},
     "execution_count": 32
    }
   ],
   "metadata": {}
  },
  {
   "cell_type": "code",
   "execution_count": 33,
   "source": [
    "data['label'] = data['label'].apply(lambda x:label2id.get(x))\r\n",
    "data.head()"
   ],
   "outputs": [
    {
     "output_type": "execute_result",
     "data": {
      "text/plain": [
       "   label                                            content\n",
       "0      2  19927044318来电反映18026183816号码要求挂失，已和用户解释，该号码实时信...\n",
       "1      2  【费用争议帐期】0\\r\\n【争议上网时间】\\r\\n【争议金额(元)】\\r\\n用户来电表示其宽...\n",
       "2      2  【费用争议帐期】2019-08-26\\r\\n【争议上网时间】2019-08-26 18:48...\n",
       "3      2  (总经理热线)客户对前单处理结果不满，工单编号：2019082310011783 已归档）\\...\n",
       "4      2  【接入方式】FTTH(光纤到户)\\r\\n【故障单号】20190826000031010\\r\\..."
      ],
      "text/html": [
       "<div>\n",
       "<style scoped>\n",
       "    .dataframe tbody tr th:only-of-type {\n",
       "        vertical-align: middle;\n",
       "    }\n",
       "\n",
       "    .dataframe tbody tr th {\n",
       "        vertical-align: top;\n",
       "    }\n",
       "\n",
       "    .dataframe thead th {\n",
       "        text-align: right;\n",
       "    }\n",
       "</style>\n",
       "<table border=\"1\" class=\"dataframe\">\n",
       "  <thead>\n",
       "    <tr style=\"text-align: right;\">\n",
       "      <th></th>\n",
       "      <th>label</th>\n",
       "      <th>content</th>\n",
       "    </tr>\n",
       "  </thead>\n",
       "  <tbody>\n",
       "    <tr>\n",
       "      <th>0</th>\n",
       "      <td>2</td>\n",
       "      <td>19927044318来电反映18026183816号码要求挂失，已和用户解释，该号码实时信...</td>\n",
       "    </tr>\n",
       "    <tr>\n",
       "      <th>1</th>\n",
       "      <td>2</td>\n",
       "      <td>【费用争议帐期】0\\r\\n【争议上网时间】\\r\\n【争议金额(元)】\\r\\n用户来电表示其宽...</td>\n",
       "    </tr>\n",
       "    <tr>\n",
       "      <th>2</th>\n",
       "      <td>2</td>\n",
       "      <td>【费用争议帐期】2019-08-26\\r\\n【争议上网时间】2019-08-26 18:48...</td>\n",
       "    </tr>\n",
       "    <tr>\n",
       "      <th>3</th>\n",
       "      <td>2</td>\n",
       "      <td>(总经理热线)客户对前单处理结果不满，工单编号：2019082310011783 已归档）\\...</td>\n",
       "    </tr>\n",
       "    <tr>\n",
       "      <th>4</th>\n",
       "      <td>2</td>\n",
       "      <td>【接入方式】FTTH(光纤到户)\\r\\n【故障单号】20190826000031010\\r\\...</td>\n",
       "    </tr>\n",
       "  </tbody>\n",
       "</table>\n",
       "</div>"
      ]
     },
     "metadata": {},
     "execution_count": 33
    }
   ],
   "metadata": {}
  },
  {
   "cell_type": "code",
   "execution_count": 34,
   "source": [
    "data['content'] = data['content'].apply(lambda x:re.sub('[0-9][0-9]{5,}|[\\\\n]|[/\\\\r]|[【]|[】]|[[]|[]]|[A-Za-z0-9_]{5,}|[,]','',x))\r\n",
    "data['content'] = data['content'].apply(lambda x:re.sub('([0-9]{3}[1-9]|[0-9]{2}[1-9][0-9]{1}|[0-9]{1}[1-9][0-9]{2}|[1-9][0-9]{3})-(((0[13578]|1[02])-(0[1-9]|[12][0-9]|3[01]))|((0[469]|11)-(0[1-9]|[12][0-9]|30))|(02-(0[1-9]|[1][0-9]|2[0-8])))|[0-9]{4}[年][0-9]{1,}[月][0-9]{1,}[日]|[0-9]{1,}[:0-9]{1,}[:0-9]{1,}','',x))\r\n",
    "# bert allow max_len == 512 包括[CLS][SEP]\r\n",
    "data['content'] = data['content'].apply(lambda x:x[:510] if len(x)>510 else x)\r\n",
    "data.head()"
   ],
   "outputs": [
    {
     "output_type": "execute_result",
     "data": {
      "text/plain": [
       "   label                                            content\n",
       "0      2  来电反映号码要求挂失，已和用户解释，该号码实时信用额度停机，需预存费用复机后再挂失，或是直接...\n",
       "1      2  费用争议帐期0争议上网时间争议金额(元)用户来电表示其宽带为何现在又欠费停机了，前台经核实，...\n",
       "2      2  费用争议帐期争议上网时间 争议金额(元)客户投诉内容客户投诉号码  在 维 期间发生费用，认...\n",
       "3      2  (总经理热线)客户对前单处理结果不满，工单编号： 已归档）前工单反馈内容：（用户来电反映其手...\n",
       "4      2  接入方式FTTH(光纤到户)故障单号故障现象无法连接上网故障申告时间 是否为时限内第3次催修..."
      ],
      "text/html": [
       "<div>\n",
       "<style scoped>\n",
       "    .dataframe tbody tr th:only-of-type {\n",
       "        vertical-align: middle;\n",
       "    }\n",
       "\n",
       "    .dataframe tbody tr th {\n",
       "        vertical-align: top;\n",
       "    }\n",
       "\n",
       "    .dataframe thead th {\n",
       "        text-align: right;\n",
       "    }\n",
       "</style>\n",
       "<table border=\"1\" class=\"dataframe\">\n",
       "  <thead>\n",
       "    <tr style=\"text-align: right;\">\n",
       "      <th></th>\n",
       "      <th>label</th>\n",
       "      <th>content</th>\n",
       "    </tr>\n",
       "  </thead>\n",
       "  <tbody>\n",
       "    <tr>\n",
       "      <th>0</th>\n",
       "      <td>2</td>\n",
       "      <td>来电反映号码要求挂失，已和用户解释，该号码实时信用额度停机，需预存费用复机后再挂失，或是直接...</td>\n",
       "    </tr>\n",
       "    <tr>\n",
       "      <th>1</th>\n",
       "      <td>2</td>\n",
       "      <td>费用争议帐期0争议上网时间争议金额(元)用户来电表示其宽带为何现在又欠费停机了，前台经核实，...</td>\n",
       "    </tr>\n",
       "    <tr>\n",
       "      <th>2</th>\n",
       "      <td>2</td>\n",
       "      <td>费用争议帐期争议上网时间 争议金额(元)客户投诉内容客户投诉号码  在 维 期间发生费用，认...</td>\n",
       "    </tr>\n",
       "    <tr>\n",
       "      <th>3</th>\n",
       "      <td>2</td>\n",
       "      <td>(总经理热线)客户对前单处理结果不满，工单编号： 已归档）前工单反馈内容：（用户来电反映其手...</td>\n",
       "    </tr>\n",
       "    <tr>\n",
       "      <th>4</th>\n",
       "      <td>2</td>\n",
       "      <td>接入方式FTTH(光纤到户)故障单号故障现象无法连接上网故障申告时间 是否为时限内第3次催修...</td>\n",
       "    </tr>\n",
       "  </tbody>\n",
       "</table>\n",
       "</div>"
      ]
     },
     "metadata": {},
     "execution_count": 34
    }
   ],
   "metadata": {}
  },
  {
   "cell_type": "markdown",
   "source": [
    "    渠道敏感>费用敏感>服务敏感\n",
    "    非常不满-服务敏感':0\n",
    "    非常不满-费用敏感':1\n",
    "    非常不满-渠道敏感':2"
   ],
   "metadata": {}
  },
  {
   "cell_type": "code",
   "execution_count": 35,
   "source": [
    "data_arr = np.asarray(data)\r\n",
    "len(data_arr)"
   ],
   "outputs": [
    {
     "output_type": "execute_result",
     "data": {
      "text/plain": [
       "30047"
      ]
     },
     "metadata": {},
     "execution_count": 35
    }
   ],
   "metadata": {
    "scrolled": true
   }
  },
  {
   "cell_type": "code",
   "execution_count": 36,
   "source": [
    "for i in range(len(data)):\r\n",
    "    for corpus in data2:\r\n",
    "        if corpus in data_arr[i][1]:\r\n",
    "            data_arr[i][0] = 2\r\n",
    "            continue\r\n",
    "    for corpus in data1:\r\n",
    "        if corpus in data_arr[i][1]:\r\n",
    "            data_arr[i][0] = 1\r\n",
    "            continue\r\n",
    "    for corpus in data0:\r\n",
    "        if corpus in data_arr[i][1]:\r\n",
    "            data_arr[i][0] = 0\r\n",
    "            continue"
   ],
   "outputs": [],
   "metadata": {}
  },
  {
   "cell_type": "code",
   "execution_count": 44,
   "source": [
    "data_new = pd.DataFrame(data_arr,columns=['label','columns'])\r\n",
    "data_new.label.value_counts()"
   ],
   "outputs": [
    {
     "output_type": "execute_result",
     "data": {
      "text/plain": [
       "0    18893\n",
       "4     6057\n",
       "3     2352\n",
       "2     2012\n",
       "1      733\n",
       "Name: label, dtype: int64"
      ]
     },
     "metadata": {},
     "execution_count": 44
    }
   ],
   "metadata": {
    "scrolled": true
   }
  },
  {
   "cell_type": "code",
   "execution_count": 38,
   "source": [
    "data_0_5000 = data_new[:5000]"
   ],
   "outputs": [
    {
     "output_type": "execute_result",
     "data": {
      "text/plain": [
       "array([[0,\n",
       "        '费用争议帐期争议上网时间 争议金额(元)客户投诉内容客户投诉号码  在 维 期间发生费用，认为不合理，要求处理。客户对 9月 计费月份产生的话费有异议。系统状态核查经查 CRM 系统显示 维  受理日期   故障恢复  日期 至今仍未修复 受影响的月租金额为  元月 元。前台预处理情况已向客户解释 但不接受，意见极大 客户要求户意见大，表示因故障造成其损失很大，要求我司专人回复给予合理解释以及退费！ '],\n",
       "       [0,\n",
       "        '(总经理热线)客户对前单处理结果不满，工单编号： 已归档）前工单反馈内容：（用户来电反映其手机号码（）在8月20号有接到一万号的来电说其号码有个低消27元就可以赠送一条宽带的优惠，引导用户其营业厅办理，但是用户去到营业厅后工作人员告知没有这个优惠活动，用户觉得被欺骗了，要求投诉）前工单归档内容：（我中心向用户了解，用户称已有工作人员跟进处理好，用户清楚）本次来电争议问题：表示问题没有人联系处理，请加急协助处理，谢谢'],\n",
       "       [0,\n",
       "        '接入方式FTTH(光纤到户)故障单号故障现象无法连接上网故障申告时间 是否为时限内第3次催修障否客户要求修障时间无客户其他要求终端类型E8-C热线接入：用户反映本机宽带出现无法正常上网，经查询当前为严障状态，拦截时间范围：从 时间开始到 时间结束，另在 已有在途故障工单号：，已向户解释当前故障现象并按解释口径向户解释，及建议户耐心等待，经解释多次无效，客户经理强烈要求前台为户下投诉工单催修障处理，请加紧处理，谢谢。'],\n",
       "       ...,\n",
       "       [0,\n",
       "        '客户经理姓名工号无发生时间 （总经理热线）客户对前单处理结果不满，工单编号： （已归档）前工单反馈内容：现用户再次反馈问题，称该问题还没有解决，现要求我司继续核实处理，用户意见很大，，前台经安抚解释无效，请紧急协助处理，谢谢！ 前工单归档内容：  联系 翟小姐了解情况，用户称有工作人员联系回复说15天处理，经向其解释：工作人员在复大约15-1个月左右处理，到时再联系，用户清楚，录音编码： 本次来电争议问题：用户称当时说会帮其全部减免，为何现在查询还有欠费，用户对此表示不满要求我司尽快联系处理好，前台经解释无效，请协助处理。谢谢！'],\n",
       "       [0,\n",
       "        '客户经理姓名工号发生时间*用户来电反映其6月份去注销手机号码，其办理的银行冻结终端合约已解约且违约金已缴清，表示当时给其办理注销的工作人员告知其注销业务办理成功之后会立即解冻，为何现银行冻结费用还没有给其解冻，要求我司核实处理，经前台解释无效，请协助处理，谢谢！备注：'],\n",
       "       [0,\n",
       "        '办理变更时间0订单编码订单环节信息产品名称中国电信移动电话用户类型 个人移动电话用户户致电反映对于充值后一直没有复通不满，查询显示同时有停机单和复通单，订单有异常导致没有复通，现户要求局方尽快处理，副卡一样情况要求一并处理，请跟进，谢谢']],\n",
       "      dtype=object)"
      ]
     },
     "metadata": {},
     "execution_count": 38
    }
   ],
   "metadata": {}
  },
  {
   "cell_type": "code",
   "execution_count": 45,
   "source": [
    "data_new = data_new[data_new['label']!=0]\r\n",
    "data_new"
   ],
   "outputs": [
    {
     "output_type": "execute_result",
     "data": {
      "text/plain": [
       "      label                                            columns\n",
       "0         2  来电反映号码要求挂失，已和用户解释，该号码实时信用额度停机，需预存费用复机后再挂失，或是直接...\n",
       "1         2  费用争议帐期0争议上网时间争议金额(元)用户来电表示其宽带为何现在又欠费停机了，前台经核实，...\n",
       "5         2  用户通过欢GO ，反馈他 他的宽带要支持IPV6。前台咨询用户是否是要修改成公网IP或者私网...\n",
       "8         2  服务点营业厅名称或地址松山湖营业厅客服代表工号事件发生时间 来电反映其前往松山湖营业厅办理打...\n",
       "9         2  接入方式FTTH(光纤到户)故障单号故障现象无法连接上网故障申告时间 是否已有工作人员联系 ...\n",
       "...     ...                                                ...\n",
       "30037     3  订单编码无订单环节信息移机或装机新装客户要求完成时间 客户其他需求接入方式终端类型IM号: ...\n",
       "30038     4  用户来电反映其身份证：宽带办理注销，接入号：，但用户称其之前宽带有个预存元返还的费用还未使用...\n",
       "30041     4  区县 城区路名 欧浦御龙湾-C5栋用户来电反映本机号码在韶关 城区 - 欧浦御龙湾-C8栋电...\n",
       "30045     3  区县 长安路名 大岭山杨屋第三工业区用户来电反映其手机（）上网信号只有2G信号，前台查询地址...\n",
       "30046     2  来电反映本机接到号外呼营销说明有赠送20G流量优惠，已反复跟业务员确认无任何附加条件和时间限...\n",
       "\n",
       "[11154 rows x 2 columns]"
      ],
      "text/html": [
       "<div>\n",
       "<style scoped>\n",
       "    .dataframe tbody tr th:only-of-type {\n",
       "        vertical-align: middle;\n",
       "    }\n",
       "\n",
       "    .dataframe tbody tr th {\n",
       "        vertical-align: top;\n",
       "    }\n",
       "\n",
       "    .dataframe thead th {\n",
       "        text-align: right;\n",
       "    }\n",
       "</style>\n",
       "<table border=\"1\" class=\"dataframe\">\n",
       "  <thead>\n",
       "    <tr style=\"text-align: right;\">\n",
       "      <th></th>\n",
       "      <th>label</th>\n",
       "      <th>columns</th>\n",
       "    </tr>\n",
       "  </thead>\n",
       "  <tbody>\n",
       "    <tr>\n",
       "      <th>0</th>\n",
       "      <td>2</td>\n",
       "      <td>来电反映号码要求挂失，已和用户解释，该号码实时信用额度停机，需预存费用复机后再挂失，或是直接...</td>\n",
       "    </tr>\n",
       "    <tr>\n",
       "      <th>1</th>\n",
       "      <td>2</td>\n",
       "      <td>费用争议帐期0争议上网时间争议金额(元)用户来电表示其宽带为何现在又欠费停机了，前台经核实，...</td>\n",
       "    </tr>\n",
       "    <tr>\n",
       "      <th>5</th>\n",
       "      <td>2</td>\n",
       "      <td>用户通过欢GO ，反馈他 他的宽带要支持IPV6。前台咨询用户是否是要修改成公网IP或者私网...</td>\n",
       "    </tr>\n",
       "    <tr>\n",
       "      <th>8</th>\n",
       "      <td>2</td>\n",
       "      <td>服务点营业厅名称或地址松山湖营业厅客服代表工号事件发生时间 来电反映其前往松山湖营业厅办理打...</td>\n",
       "    </tr>\n",
       "    <tr>\n",
       "      <th>9</th>\n",
       "      <td>2</td>\n",
       "      <td>接入方式FTTH(光纤到户)故障单号故障现象无法连接上网故障申告时间 是否已有工作人员联系 ...</td>\n",
       "    </tr>\n",
       "    <tr>\n",
       "      <th>...</th>\n",
       "      <td>...</td>\n",
       "      <td>...</td>\n",
       "    </tr>\n",
       "    <tr>\n",
       "      <th>30037</th>\n",
       "      <td>3</td>\n",
       "      <td>订单编码无订单环节信息移机或装机新装客户要求完成时间 客户其他需求接入方式终端类型IM号: ...</td>\n",
       "    </tr>\n",
       "    <tr>\n",
       "      <th>30038</th>\n",
       "      <td>4</td>\n",
       "      <td>用户来电反映其身份证：宽带办理注销，接入号：，但用户称其之前宽带有个预存元返还的费用还未使用...</td>\n",
       "    </tr>\n",
       "    <tr>\n",
       "      <th>30041</th>\n",
       "      <td>4</td>\n",
       "      <td>区县 城区路名 欧浦御龙湾-C5栋用户来电反映本机号码在韶关 城区 - 欧浦御龙湾-C8栋电...</td>\n",
       "    </tr>\n",
       "    <tr>\n",
       "      <th>30045</th>\n",
       "      <td>3</td>\n",
       "      <td>区县 长安路名 大岭山杨屋第三工业区用户来电反映其手机（）上网信号只有2G信号，前台查询地址...</td>\n",
       "    </tr>\n",
       "    <tr>\n",
       "      <th>30046</th>\n",
       "      <td>2</td>\n",
       "      <td>来电反映本机接到号外呼营销说明有赠送20G流量优惠，已反复跟业务员确认无任何附加条件和时间限...</td>\n",
       "    </tr>\n",
       "  </tbody>\n",
       "</table>\n",
       "<p>11154 rows × 2 columns</p>\n",
       "</div>"
      ]
     },
     "metadata": {},
     "execution_count": 45
    }
   ],
   "metadata": {}
  },
  {
   "cell_type": "code",
   "execution_count": 47,
   "source": [
    "data_new = list(np.asarray(data_new[data_new['label']!=0]))\r\n",
    "for i in data_0_5000:\r\n",
    "    data_new.append(i)\r\n",
    "len(data_new)"
   ],
   "outputs": [
    {
     "output_type": "execute_result",
     "data": {
      "text/plain": [
       "16154"
      ]
     },
     "metadata": {},
     "execution_count": 47
    }
   ],
   "metadata": {}
  },
  {
   "cell_type": "code",
   "execution_count": 51,
   "source": [
    "data_new = np.asarray(data_new)"
   ],
   "outputs": [],
   "metadata": {}
  },
  {
   "cell_type": "code",
   "execution_count": 52,
   "source": [
    "import pickle\r\n",
    "with open('./data_new.pkl','wb') as f:\r\n",
    "    pickle.dump(data_new,f)\r\n",
    "f.close()"
   ],
   "outputs": [],
   "metadata": {}
  },
  {
   "cell_type": "code",
   "execution_count": 53,
   "source": [
    "df_data.label.value_counts()"
   ],
   "outputs": [
    {
     "output_type": "execute_result",
     "data": {
      "text/plain": [
       "比较不满         15932\n",
       "非常不满-渠道敏感     6222\n",
       "一般不满          4111\n",
       "非常不满-服务敏感     2385\n",
       "非常不满-费用敏感     1397\n",
       "Name: label, dtype: int64"
      ]
     },
     "metadata": {},
     "execution_count": 53
    }
   ],
   "metadata": {}
  },
  {
   "cell_type": "code",
   "execution_count": null,
   "source": [],
   "outputs": [],
   "metadata": {}
  }
 ],
 "metadata": {
  "kernelspec": {
   "name": "python3",
   "display_name": "Python 3.7.10 64-bit ('tf2': conda)"
  },
  "language_info": {
   "codemirror_mode": {
    "name": "ipython",
    "version": 3
   },
   "file_extension": ".py",
   "mimetype": "text/x-python",
   "name": "python",
   "nbconvert_exporter": "python",
   "pygments_lexer": "ipython3",
   "version": "3.7.10"
  },
  "interpreter": {
   "hash": "6f1bdb21c4c12cff05432d2e17dfccd9c6b4713c1a79203ad856acdc46af5e64"
  }
 },
 "nbformat": 4,
 "nbformat_minor": 2
}